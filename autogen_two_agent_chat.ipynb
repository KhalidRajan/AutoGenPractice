{
 "cells": [
  {
   "cell_type": "code",
   "execution_count": 3,
   "metadata": {},
   "outputs": [],
   "source": [
    "from dotenv import load_dotenv\n",
    "import os"
   ]
  },
  {
   "cell_type": "code",
   "execution_count": 2,
   "metadata": {},
   "outputs": [
    {
     "data": {
      "text/plain": [
       "True"
      ]
     },
     "execution_count": 2,
     "metadata": {},
     "output_type": "execute_result"
    }
   ],
   "source": [
    "load_dotenv()"
   ]
  },
  {
   "cell_type": "code",
   "execution_count": 7,
   "metadata": {},
   "outputs": [],
   "source": [
    "api_key = os.getenv(\"OPENAI_API_KEY\")"
   ]
  },
  {
   "cell_type": "code",
   "execution_count": 8,
   "metadata": {},
   "outputs": [],
   "source": [
    "llm_config = {\"config_list\": [{\"model\": \"gpt-4o\", \"api_key\": api_key}]}"
   ]
  },
  {
   "cell_type": "markdown",
   "metadata": {},
   "source": [
    "## Create a Random Agent"
   ]
  },
  {
   "cell_type": "code",
   "execution_count": 9,
   "metadata": {},
   "outputs": [],
   "source": [
    "from autogen import ConversableAgent"
   ]
  },
  {
   "cell_type": "code",
   "execution_count": 10,
   "metadata": {},
   "outputs": [],
   "source": [
    "agent = ConversableAgent(\n",
    "    \"my_agent\",\n",
    "    llm_config = llm_config,\n",
    "    code_execution_config = False, # turn off code execution; by default, it is False\n",
    "    function_map = None,\n",
    "    human_input_mode = \"NEVER\" # never ask for human input\n",
    "\n",
    ")"
   ]
  },
  {
   "cell_type": "code",
   "execution_count": 11,
   "metadata": {},
   "outputs": [],
   "source": [
    "reply = agent.generate_reply(messages=[{\"content\": \"Tell me about the history of the pi number.\", \"role\": \"user\"}])"
   ]
  },
  {
   "cell_type": "code",
   "execution_count": 12,
   "metadata": {},
   "outputs": [
    {
     "name": "stdout",
     "output_type": "stream",
     "text": [
      "The history of π (pi) is a fascinating journey that spans thousands of years and reflects the development of mathematics across cultures. Here's a brief overview:\n",
      "\n",
      "1. **Ancient Civilizations**: \n",
      "   - The earliest known estimations of π date back to ancient civilizations, such as the Egyptians and the Babylonians, around 1900 BC. The Babylonians estimated π to be 3.125, while the Egyptians approximated it to be about 3.1605 based on the Rhind Papyrus.\n",
      "\n",
      "2. **Classical Antiquity**: \n",
      "   - The Greek mathematician Archimedes (circa 287–212 BC) made one of the first theoretical calculations of π. He used a geometric approach involving inscribed and circumscribed polygons, determining that π was between 3 1/7 (approximately 3.1429) and 3 10/71 (approximately 3.1408).\n",
      "\n",
      "3. **Asian Contributions**: \n",
      "   - In ancient India, around the 5th century AD, the mathematician Aryabhata approximated π to four decimal places as 3.1416.\n",
      "   - In China, between the 3rd and 5th centuries, mathematicians such as Liu Hui and later Zu Chongzhi provided approximations of π. Zu Chongzhi calculated π to be approximately 355/113, which was an extremely accurate estimate for the time.\n",
      "\n",
      "4. **Middle Ages to Renaissance**: \n",
      "   - During the Islamic Golden Age, scholars like Al-Khwarizmi and Al-Kashi made contributions to π's decimal expansion.\n",
      "   - In Europe, Ludolph van Ceulen in the 16th century calculated π to 35 decimal places, and his dedication to the study of π led to it being called \"Ludolphine number\" for some time.\n",
      "\n",
      "5. **Development of Calculus and Analysis**: \n",
      "   - The development of calculus in the 17th century by Newton and Leibniz provided new methods to calculate π more precisely through series expansions.\n",
      "   - Pi began to be defined as a limit or through integral calculus, opening avenues for precise computation.\n",
      "\n",
      "6. **Modern Calculations and Computers**: \n",
      "   - In the 20th century, the advent of computers transformed the calculation of π. In 1949, John von Neumann and others used ENIAC to compute 2,037 digits of π. \n",
      "   - Today, supercomputers and algorithms such as the Bailey–Borwein–Plouffe formula have pushed the boundaries of π's known decimal representation to trillions of digits.\n",
      "\n",
      "7. **Symbol for Pi**: \n",
      "   - The symbol \"π\" has been used to denote the ratio of the circumference of a circle to its diameter since the early 18th century. It was first popularized by the Welsh mathematician William Jones in 1706 and later adopted by Euler, solidifying its usage in mathematical literature.\n",
      "\n",
      "The quest to understand and calculate π has been a central thread in the history of mathematics, highlighting both the human desire for precision and the evolution of mathematical thought.\n"
     ]
    }
   ],
   "source": [
    "print(reply)"
   ]
  },
  {
   "cell_type": "markdown",
   "metadata": {},
   "source": [
    "## Two Agent Chat Implementation"
   ]
  },
  {
   "cell_type": "code",
   "execution_count": 13,
   "metadata": {},
   "outputs": [],
   "source": [
    "student_agent = ConversableAgent(\n",
    "    name = \"student\",\n",
    "    system_message = \"You are a student who is willing to learn from their teacher(s).\",\n",
    "    llm_config = llm_config\n",
    ")\n",
    "\n",
    "teacher_agent = ConversableAgent(\n",
    "    name = \"teacher\",\n",
    "    system_message = \"You are an economics teacher.\",\n",
    "    llm_config = llm_config\n",
    ")"
   ]
  },
  {
   "cell_type": "code",
   "execution_count": 14,
   "metadata": {},
   "outputs": [
    {
     "name": "stdout",
     "output_type": "stream",
     "text": [
      "\u001b[33mstudent\u001b[0m (to teacher):\n",
      "\n",
      "How does the Consumer Price Index (CPI) act as a measure of inflation?\n",
      "\n",
      "--------------------------------------------------------------------------------\n",
      "\u001b[31m\n",
      ">>>>>>>> USING AUTO REPLY...\u001b[0m\n",
      "\u001b[33mteacher\u001b[0m (to student):\n",
      "\n",
      "The Consumer Price Index (CPI) is a vital tool for measuring inflation, which reflects the rate at which the general level of prices for goods and services is rising, and subsequently, how purchasing power is being eroded. Here’s how the CPI acts as a measure of inflation:\n",
      "\n",
      "1. **Basket of Goods and Services**: The CPI is based on a \"basket\" of goods and services that represents the typical consumption pattern of households. This basket includes categories like food, clothing, transportation, healthcare, and education.\n",
      "\n",
      "2. **Price Collection**: A network of data collectors gathers prices for these items from various locations nationwide. This process ensures that the index reflects price changes across different regions and store types.\n",
      "\n",
      "3. **Weighting System**: Each item in the basket is assigned a weight based on its relative importance or proportion of spending by the average household. For example, housing usually has a higher weight compared to entertainment.\n",
      "\n",
      "4. **Calculation of the Index**: The CPI is calculated by comparing the current cost of the basket with its cost in a base year. The index is expressed as a percentage, with the base year typically set at 100. \n",
      "\n",
      "5. **Measuring Inflation**: Inflation is measured by the percentage change in the CPI from one time period to another. For instance, if the CPI rises from 200 to 204 over one year, the inflation rate is 2%.\n",
      "\n",
      "6. **Core vs. Headline CPI**: The headline CPI includes all items in the basket, whereas the core CPI excludes volatile items like food and energy to provide a clearer view of long-term inflation trends.\n",
      "\n",
      "7. **Adjustments and Updates**: To maintain accuracy, the basket of goods and services and their weights are periodically updated to reflect changes in consumer preferences and technological advancements.\n",
      "\n",
      "By systematically organizing and analyzing the data gathered through the CPI, researchers and policymakers can assess how prices are changing over time, thus determining the inflation rate. This, in turn, helps influence monetary policy, cost-of-living adjustments, and various economic analyses.\n",
      "\n",
      "--------------------------------------------------------------------------------\n",
      "\u001b[31m\n",
      ">>>>>>>> USING AUTO REPLY...\u001b[0m\n",
      "\u001b[33mstudent\u001b[0m (to teacher):\n",
      "\n",
      "That makes a lot of sense! So the CPI reflects changes in the cost of living by tracking price changes over time in a basket of goods and services that represents typical consumer spending. By comparing the index over different periods, we can see how much inflation has occurred. The core CPI provides a more stable view by excluding volatile categories. It's clear how important this measure is for economic policy and understanding purchasing power. Thanks for the detailed explanation!\n",
      "\n",
      "--------------------------------------------------------------------------------\n",
      "\u001b[31m\n",
      ">>>>>>>> USING AUTO REPLY...\u001b[0m\n",
      "\u001b[33mteacher\u001b[0m (to student):\n",
      "\n",
      "You're welcome! I'm glad the explanation was helpful. You've captured the key points well. The CPI is indeed a crucial indicator for understanding economic conditions, and it plays a significant role in guiding economic policy and helping individuals and businesses make informed financial decisions. If you have any more questions about inflation, economic indicators, or any other topic, feel free to ask!\n",
      "\n",
      "--------------------------------------------------------------------------------\n"
     ]
    }
   ],
   "source": [
    "chat_result = student_agent.initiate_chat(\n",
    "    teacher_agent,\n",
    "    message = \"How does the Consumer Price Index (CPI) act as a measure of inflation?\",\n",
    "    max_turns = 2\n",
    ")"
   ]
  },
  {
   "cell_type": "code",
   "execution_count": null,
   "metadata": {},
   "outputs": [],
   "source": []
  }
 ],
 "metadata": {
  "kernelspec": {
   "display_name": "autogen_playground",
   "language": "python",
   "name": "python3"
  },
  "language_info": {
   "codemirror_mode": {
    "name": "ipython",
    "version": 3
   },
   "file_extension": ".py",
   "mimetype": "text/x-python",
   "name": "python",
   "nbconvert_exporter": "python",
   "pygments_lexer": "ipython3",
   "version": "3.12.7"
  }
 },
 "nbformat": 4,
 "nbformat_minor": 2
}
