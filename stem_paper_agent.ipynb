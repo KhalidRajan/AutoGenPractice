{
 "cells": [
  {
   "cell_type": "code",
   "execution_count": 11,
   "metadata": {},
   "outputs": [],
   "source": [
    "from dotenv import load_dotenv\n",
    "import os"
   ]
  },
  {
   "cell_type": "code",
   "execution_count": null,
   "metadata": {},
   "outputs": [],
   "source": [
    "load_dotenv()"
   ]
  },
  {
   "cell_type": "code",
   "execution_count": 13,
   "metadata": {},
   "outputs": [],
   "source": [
    "api_key = os.getenv(\"OPENAI_API_KEY\")\n",
    "llm_config = {\"config_list\": [{\"model\": \"gpt-4o\", \"api_key\": api_key}]}"
   ]
  },
  {
   "cell_type": "markdown",
   "metadata": {},
   "source": [
    "## Create Tool to Retrieve Papers from Arvix"
   ]
  },
  {
   "cell_type": "code",
   "execution_count": 14,
   "metadata": {},
   "outputs": [],
   "source": [
    "import arxiv\n",
    "from typing import List, Dict, Any\n",
    "from datetime import  datetime"
   ]
  },
  {
   "cell_type": "code",
   "execution_count": 15,
   "metadata": {},
   "outputs": [],
   "source": [
    "client = arxiv.Client()"
   ]
  },
  {
   "cell_type": "code",
   "execution_count": 16,
   "metadata": {},
   "outputs": [],
   "source": [
    "search = arxiv.Search(\n",
    "    query = \"Fine tuning transformer models\",\n",
    "    max_results = 10,\n",
    "    sort_by = arxiv.SortCriterion.SubmittedDate\n",
    ")"
   ]
  },
  {
   "cell_type": "code",
   "execution_count": null,
   "metadata": {},
   "outputs": [],
   "source": [
    "for result in client.results(search):\n",
    "    print(vars(result))"
   ]
  },
  {
   "cell_type": "code",
   "execution_count": 18,
   "metadata": {},
   "outputs": [],
   "source": [
    "def arxiv_search(query: str, max_results: int = 10) -> List[Dict[str, Any]]:\n",
    "    \"\"\"\n",
    "    Performs a search on Arxiv for papers corresponding to the specified query and returns the top results.\n",
    "\n",
    "    Args:\n",
    "        query (str): The search query.\n",
    "        max_results: The number of search results to return.  Defaults to 10.\n",
    "\n",
    "    Returns:\n",
    "        List Dict[str, Any]: A list of articles and corresponding information including title, summary, etc.\n",
    "    \"\"\"\n",
    "    \n",
    "    results = []\n",
    "\n",
    "    client = arxiv.Client()\n",
    "    search = arxiv.Search(\n",
    "        query = query,\n",
    "        max_results = max_results,\n",
    "        sort_by = arxiv.SortCriterion.SubmittedDate\n",
    "    )\n",
    "\n",
    "    for result in client.results(search):\n",
    "        result_dict = vars(result)\n",
    "        \n",
    "        # Convert all fields to JSON serializable types\n",
    "        for key, value in result_dict.items():\n",
    "            if isinstance(value, datetime):\n",
    "                result_dict[key] = value.isoformat()\n",
    "            elif key == \"authors\":  # Handle Author objects\n",
    "                result_dict[key] = [str(author) for author in value]  # Convert each Author to string\n",
    "            elif key == \"links\":  # Handle Link objects\n",
    "                result_dict[key] = [str(link) for link in value]  # Convert each Link to string\n",
    "            elif not isinstance(value, (str, int, float, list, dict, bool, type(None))):\n",
    "                result_dict[key] = str(value)  # Convert any other non-serializable types to string\n",
    "        \n",
    "        results.append(result_dict)\n",
    "    \n",
    "    return results\n",
    "\n"
   ]
  },
  {
   "cell_type": "markdown",
   "metadata": {},
   "source": [
    "## Create the Agents and Group Chat"
   ]
  },
  {
   "cell_type": "code",
   "execution_count": 19,
   "metadata": {},
   "outputs": [],
   "source": [
    "from autogen import ConversableAgent, register_function, GroupChat, GroupChatManager"
   ]
  },
  {
   "cell_type": "code",
   "execution_count": null,
   "metadata": {},
   "outputs": [],
   "source": [
    "# Update the FinalReviewer class to properly format the final paper\n",
    "# Extense classes for the medical evaluation process\n",
    "class FinalReviewer(ConversableAgent):\n",
    "    def receive(self, message, sender, request_reply=True, silent=False):\n",
    "        super().receive(message, sender, request_reply, silent)\n",
    "        # Check if the final document is satisfactory\n",
    "        if \"satisfactory\" in message.get(\"content\", \"\").lower():\n",
    "            self.send({\"content\": \"TERMINATE\"}, sender)\n",
    "\n",
    "scientific_research_planner = ConversableAgent(\n",
    "    name = \"ScientificResearchPlanner\",\n",
    "    system_message = \"\"\"Given a research task, your job is to determine the information required to support the research.  Please make a determination whether Arxiv articles are necessary for substantiating research findings.\n",
    "    Please provide clear instructions to the scientific research team.  You have the ability to retrieve relevant articles from Arxiv using the provided tool function.  Please limit the search to a maximum of five topics, as no more than five\n",
    "    search queries to Arxiv are permitted at a time.  Please monitor the task's progress continously and delegate subtasks to other agents as necessary.  If relevant Arxiv articles are not available or do not provide sufficient information to corroborate research\n",
    "    findings, please suggest alternative strategies or sources.  After each step, please check the current progress and instruct the following steps.  If a step fails for some reason, please try a workaround.\n",
    "    \"\"\",\n",
    "    description = \"You are a planner.  Given a scientific research task, determine what information is required to complete the task.  After each step, please check the progress and instruct the next steps.\",\n",
    "    llm_config = llm_config\n",
    ")\n",
    "\n",
    "scientific_reviewer = ConversableAgent(\n",
    "    name = \"ScientificReviewer\",\n",
    "    system_message = \"\"\"You are a scientific reviewer with expertise in the fields of physics, mathematics, computer science, quantitative biology, quantitative finance, statistics, electrical engineering and systems science, and economics.\n",
    "    Please review the research findings from a validity, accuracy and significance of research findings standpoint.  Please provide concise, relevant and specific suggestions for improvement and consideration.\n",
    "    \"\"\",\n",
    "    llm_config = llm_config\n",
    "\n",
    ")\n",
    "\n",
    "scientific_researcher = ConversableAgent(\n",
    "    name = \"ScientificResearcher\",\n",
    "    system_message = \"\"\"You are a scientific researcher responsible for drafting a scientific manuscript that will detail your research findings.  Please ensure that the content of the scientific manuscript is valid and encapsulates the significant findings from your research.\n",
    "    Please utilize the arxiv_search function for literature, and ensure that you cite at least one relevant source to substantiate your research findings.\n",
    "    \"\"\",\n",
    "    llm_config = llm_config\n",
    ")\n",
    "\n",
    "scientific_editor = ConversableAgent(\n",
    "    name = \"ScientificEditor\",\n",
    "    system_message = \"\"\"You are a scientific editor.  You are responsible for editing the content to ensure that the grammar and diction are correct.  You should also ensure that the scientific terminology referenced in the paper is relevant and accurate.  Please ensure that the paper is coherent.\"\"\",\n",
    "    llm_config = llm_config\n",
    ")\n",
    "\n",
    "final_reviewer = FinalReviewer(\n",
    "    name = \"FinalReviewer\",\n",
    "    system_message = \"\"\"You are the final reviewer, responsible for consolidating and reviewing feedback from the scientific reviewer.  You are responsible for making the ultimate decision on the content's readiness for publication.\n",
    "    Please write TERMINATE if the document meets the required criteria and is ready to be published.\n",
    "    \"\"\"\n",
    ")\n",
    "\n",
    "# user proxy for executing tool calls\n",
    "user_proxy = ConversableAgent(\n",
    "    name = \"UserProxy\",\n",
    "    llm_config = False,\n",
    "    is_termination_msg=lambda msg: \"TERMINATE\" in msg.get(\"content\", \"\"),\n",
    "    human_input_mode = \"NEVER\"\n",
    ")\n",
    "\n",
    "# register the arxiv_search tool for the appropriate agents\n",
    "for caller in [scientific_researcher, scientific_research_planner]:\n",
    "    register_function(\n",
    "        arxiv_search,\n",
    "        caller = caller,\n",
    "        executor = user_proxy,\n",
    "        name = \"arxiv_search\",\n",
    "        description = \"Retrives relevant articles from the Arxiv archive based on a search query.\"\n",
    "    )\n",
    "\n",
    "\n",
    "scientific_groupchat = GroupChat(\n",
    "    agents = [\n",
    "        scientific_reviewer, scientific_editor, scientific_research_planner, scientific_researcher, final_reviewer, user_proxy\n",
    "    ],\n",
    "    messages = [],\n",
    "    max_round = 3,\n",
    "    allowed_or_disallowed_speaker_transitions = {\n",
    "        scientific_reviewer: [final_reviewer, scientific_researcher],\n",
    "        scientific_researcher: [scientific_editor, scientific_reviewer],\n",
    "        final_reviewer: [scientific_researcher],  # Final reviewer can terminate or request changes\n",
    "        scientific_editor: [scientific_reviewer, scientific_researcher], \n",
    "        scientific_research_planner: [\n",
    "            scientific_editor, scientific_researcher, scientific_reviewer, final_reviewer,\n",
    "        ],\n",
    "        user_proxy: [\n",
    "            scientific_reviewer, scientific_editor, scientific_research_planner, scientific_researcher, final_reviewer\n",
    "        ]\n",
    "    },\n",
    "    speaker_transitions_type = \"allowed\"\n",
    ")\n",
    "\n",
    "\n",
    "scientific_manager = GroupChatManager(\n",
    "    groupchat = scientific_groupchat, llm_config = llm_config\n",
    ")\n",
    "\n",
    "task = \"\"\"\n",
    "    Create a research paper on novel Named Entity Recognition (NER) methods.  Please discuss how Large Language Models (LLMs) can be leveraged as well as classical Natural Language Processing (NLP) and Machine Learning models.  \n",
    "    Compare and contrast the results of these different methods.  Include a methodology, results, discussion and conclusion section in the research document.  Please ensure the research findings are significant and accurate.  Please \n",
    "    utilize relevant articles from Arxiv to support and substantiate your research findings.\n",
    "\"\"\"\n",
    "\n",
    "# Update the main chat initiation with stricter termination checking\n",
    "def is_termination_msg(x):\n",
    "    content = x.get(\"content\", \"\")\n",
    "    if \"TERMINATE\" in content:\n",
    "        # Extract and print the final paper\n",
    "        if \"FINAL PAPER:\" in content:\n",
    "            paper_start = content.find(\"FINAL PAPER:\")\n",
    "            paper_end = content.find(\"TERMINATE\")\n",
    "            final_paper = content[paper_start:paper_end].strip()\n",
    "            print(\"\\n\" + \"=\"*50)\n",
    "            print(final_paper)\n",
    "            print(\"=\"*50 + \"\\n\")\n",
    "        return True\n",
    "    return False\n",
    "\n",
    "# Update the chat initiation\n",
    "scientific_groupchat_result = user_proxy.initiate_chat(\n",
    "    recipient=scientific_manager,\n",
    "    message=task,\n",
    "    is_termination_msg=lambda x: \"terminate\" in x.get(\"content\", \"\").lower(),\n",
    "    max_turns=8  # Reduced to prevent excessive conversation\n",
    ")\n"
   ]
  },
  {
   "cell_type": "code",
   "execution_count": null,
   "metadata": {},
   "outputs": [],
   "source": []
  },
  {
   "cell_type": "code",
   "execution_count": null,
   "metadata": {},
   "outputs": [],
   "source": []
  }
 ],
 "metadata": {
  "kernelspec": {
   "display_name": "autogen_playground",
   "language": "python",
   "name": "python3"
  },
  "language_info": {
   "codemirror_mode": {
    "name": "ipython",
    "version": 3
   },
   "file_extension": ".py",
   "mimetype": "text/x-python",
   "name": "python",
   "nbconvert_exporter": "python",
   "pygments_lexer": "ipython3",
   "version": "3.12.7"
  }
 },
 "nbformat": 4,
 "nbformat_minor": 2
}
